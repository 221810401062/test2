{
 "cells": [
  {
   "cell_type": "markdown",
   "metadata": {},
   "source": [
    "# MARK DOWN\n",
    "### MARK DOWN\n",
    "#### mark down\n",
    "* **POINT 1**\n",
    "* *POINT 2*\n",
    "* ***POINT 3***\n",
    "\n",
    "* NORMAL TEXT\n",
    "  * SUB LIST 1\n",
    "  * SUB LIST 2\n",
    "\n",
    "\n",
    "> 1. POINT 1\n",
    "> 2. POINT 2\n",
    "> 3. POINT 3\n",
    "\n",
    "* ***ADDING LINKS TO MARKDOWN*** \n",
    "\n",
    "GOOGLE SITE -- [1]: http://www.google.com\n",
    "MSN WEBSITE -- [2]: http://www.msn.com\n",
    "\n",
    "* []OPTION 1\n",
    "\n",
    "* GOOGLE SITE -- [GOOGLE].[1]\n",
    "[1]: http://www.gogle.com"
   ]
  },
  {
   "cell_type": "code",
   "execution_count": 10,
   "metadata": {},
   "outputs": [
    {
     "ename": "SyntaxError",
     "evalue": "invalid syntax (<ipython-input-10-5fde620f3414>, line 3)",
     "output_type": "error",
     "traceback": [
      "\u001b[1;36m  File \u001b[1;32m\"<ipython-input-10-5fde620f3414>\"\u001b[1;36m, line \u001b[1;32m3\u001b[0m\n\u001b[1;33m    > python version 3.7\u001b[0m\n\u001b[1;37m    ^\u001b[0m\n\u001b[1;31mSyntaxError\u001b[0m\u001b[1;31m:\u001b[0m invalid syntax\n"
     ]
    }
   ],
   "source": [
    "### Python Basics\n",
    "> python version 3.7\n",
    "> functional programming\n",
    "> object oriented programming\n",
    "    \n",
    "   "
   ]
  },
  {
   "cell_type": "code",
   "execution_count": 1,
   "metadata": {},
   "outputs": [
    {
     "name": "stdout",
     "output_type": "stream",
     "text": [
      "hello,gitam\n"
     ]
    }
   ],
   "source": [
    "print(\"hello,gitam\")"
   ]
  },
  {
   "cell_type": "code",
   "execution_count": 2,
   "metadata": {},
   "outputs": [
    {
     "name": "stdout",
     "output_type": "stream",
     "text": [
      "hyderabad\n"
     ]
    }
   ],
   "source": [
    "print(\"hyderabad\")"
   ]
  },
  {
   "cell_type": "code",
   "execution_count": 11,
   "metadata": {},
   "outputs": [
    {
     "name": "stdout",
     "output_type": "stream",
     "text": [
      "gitam !!! hyderabad !!! python program\n"
     ]
    }
   ],
   "source": [
    "print(\"gitam\", \"!!!\",end= \" \")\n",
    "print(\"hyderabad\",end=\" !!! \")\n",
    "print(\"python program\")"
   ]
  },
  {
   "cell_type": "code",
   "execution_count": 12,
   "metadata": {},
   "outputs": [
    {
     "name": "stdout",
     "output_type": "stream",
     "text": [
      "100\n",
      "300 300 300\n",
      "400 500 600\n"
     ]
    }
   ],
   "source": [
    "n1 = 100\n",
    "m1 = m2 = m3 = 300\n",
    "b1,b2,b3 = 400,500,600\n",
    "print(n1)\n",
    "print(m1,m2,m3)\n",
    "print(b1,b2,b3)"
   ]
  },
  {
   "cell_type": "code",
   "execution_count": 15,
   "metadata": {},
   "outputs": [
    {
     "name": "stdout",
     "output_type": "stream",
     "text": [
      "100 python p 10.2\n",
      "<class 'int'> <class 'str'> <class 'str'> <class 'float'>\n"
     ]
    }
   ],
   "source": [
    "a = 100;\n",
    "s1 = \"python\"\n",
    "s2 = 'p'\n",
    "f1 = 10.2\n",
    "print(a,s1,s2,f1)\n",
    "print(type(a),type(s1),type(s2),type(f1))"
   ]
  },
  {
   "cell_type": "code",
   "execution_count": 16,
   "metadata": {},
   "outputs": [
    {
     "name": "stdout",
     "output_type": "stream",
     "text": [
      "hello world!\n",
      "hello world!\n"
     ]
    }
   ],
   "source": [
    "print(\"hello world!\\nhello world!\")"
   ]
  },
  {
   "cell_type": "code",
   "execution_count": 17,
   "metadata": {},
   "outputs": [
    {
     "ename": "ValueError",
     "evalue": "invalid literal for int() with base 10: 'g'",
     "output_type": "error",
     "traceback": [
      "\u001b[1;31m---------------------------------------------------------------------------\u001b[0m",
      "\u001b[1;31mValueError\u001b[0m                                Traceback (most recent call last)",
      "\u001b[1;32m<ipython-input-17-ae67ff5610d4>\u001b[0m in \u001b[0;36m<module>\u001b[1;34m\u001b[0m\n\u001b[0;32m      1\u001b[0m \u001b[0mi\u001b[0m \u001b[1;33m=\u001b[0m \u001b[1;34m\"g\"\u001b[0m\u001b[1;33m\u001b[0m\u001b[1;33m\u001b[0m\u001b[0m\n\u001b[1;32m----> 2\u001b[1;33m \u001b[0ma\u001b[0m \u001b[1;33m=\u001b[0m \u001b[0mint\u001b[0m\u001b[1;33m(\u001b[0m\u001b[0mi\u001b[0m\u001b[1;33m)\u001b[0m\u001b[1;33m\u001b[0m\u001b[1;33m\u001b[0m\u001b[0m\n\u001b[0m\u001b[0;32m      3\u001b[0m \u001b[0mprint\u001b[0m\u001b[1;33m(\u001b[0m\u001b[0ma\u001b[0m\u001b[1;33m)\u001b[0m\u001b[1;33m\u001b[0m\u001b[1;33m\u001b[0m\u001b[0m\n\u001b[0;32m      4\u001b[0m \u001b[0mprint\u001b[0m\u001b[1;33m(\u001b[0m\u001b[0mtype\u001b[0m\u001b[1;33m(\u001b[0m\u001b[0ma\u001b[0m\u001b[1;33m)\u001b[0m\u001b[1;33m)\u001b[0m\u001b[1;33m\u001b[0m\u001b[1;33m\u001b[0m\u001b[0m\n",
      "\u001b[1;31mValueError\u001b[0m: invalid literal for int() with base 10: 'g'"
     ]
    }
   ],
   "source": [
    "i = \"g\"\n",
    "a = int(i)\n",
    "print(a)\n",
    "print(type(a))"
   ]
  },
  {
   "cell_type": "code",
   "execution_count": 18,
   "metadata": {},
   "outputs": [
    {
     "name": "stdout",
     "output_type": "stream",
     "text": [
      "5\n"
     ]
    }
   ],
   "source": [
    "a1 = 12334\n",
    "print(len(str(a1)))"
   ]
  },
  {
   "cell_type": "code",
   "execution_count": 19,
   "metadata": {},
   "outputs": [
    {
     "name": "stdout",
     "output_type": "stream",
     "text": [
      "enter your namesyam\n",
      "syam\n",
      "<class 'str'>\n"
     ]
    }
   ],
   "source": [
    "s1 = input(\"enter your name\")\n",
    "print(s1)\n",
    "print(type(s1))"
   ]
  },
  {
   "cell_type": "code",
   "execution_count": 20,
   "metadata": {},
   "outputs": [
    {
     "name": "stdout",
     "output_type": "stream",
     "text": [
      "enter number789\n",
      "789 <class 'int'>\n"
     ]
    }
   ],
   "source": [
    "n1 = int(input(\"enter number\"))\n",
    "print(n1,type(n1))"
   ]
  },
  {
   "cell_type": "code",
   "execution_count": 21,
   "metadata": {},
   "outputs": [
    {
     "name": "stdout",
     "output_type": "stream",
     "text": [
      "10\n",
      "4\n",
      "15\n",
      "0.5\n",
      "5\n",
      "0\n",
      "25\n"
     ]
    }
   ],
   "source": [
    "n1 = 5\n",
    "print(n1+5)\n",
    "print(n1-1)\n",
    "print(n1*3)\n",
    "print(n1/10)\n",
    "print(n1%10)\n",
    "print(n1//10)\n",
    "print(n1**2)"
   ]
  },
  {
   "cell_type": "code",
   "execution_count": 1,
   "metadata": {},
   "outputs": [
    {
     "name": "stdout",
     "output_type": "stream",
     "text": [
      "8.0\n"
     ]
    }
   ],
   "source": [
    "x = 1 + 2 ** 3 / 4 + 5\n",
    "print(x)"
   ]
  },
  {
   "cell_type": "code",
   "execution_count": 9,
   "metadata": {},
   "outputs": [
    {
     "name": "stdout",
     "output_type": "stream",
     "text": [
      "enter number52\n",
      "even\n",
      "<class 'int'>\n",
      "52.0\n",
      "<class 'float'>\n"
     ]
    }
   ],
   "source": [
    "n = int(input(\"enter number\"))\n",
    "if n%2 == 0:\n",
    "       print(\"even\")\n",
    "else:\n",
    "       print(\"odd\")\n",
    "print(type(n))        \n",
    "a = float(n)\n",
    "print(a)\n",
    "print(type(a))"
   ]
  },
  {
   "cell_type": "code",
   "execution_count": 10,
   "metadata": {
    "scrolled": true
   },
   "outputs": [
    {
     "name": "stdout",
     "output_type": "stream",
     "text": [
      "enter numberr15\n",
      "yes\n"
     ]
    }
   ],
   "source": [
    "n = int(input(\"enter numberr\"))\n",
    "if n%3 == 0 and n%5 == 0:\n",
    "       print(\"yes\")\n",
    "else:\n",
    "        print(\"no\")\n",
    "        "
   ]
  },
  {
   "cell_type": "code",
   "execution_count": 13,
   "metadata": {},
   "outputs": [
    {
     "name": "stdout",
     "output_type": "stream",
     "text": [
      "enter number9\n",
      "greater than one\n"
     ]
    }
   ],
   "source": [
    "n = int(input(\"enter number\"))\n",
    "if n == 0:\n",
    "    print(\"zero\")\n",
    "if n>0:\n",
    "     print(\"greater than one\")\n",
    "else:\n",
    "    print(\"less than zero\")"
   ]
  },
  {
   "cell_type": "code",
   "execution_count": null,
   "metadata": {},
   "outputs": [],
   "source": []
  }
 ],
 "metadata": {
  "kernelspec": {
   "display_name": "Python 3",
   "language": "python",
   "name": "python3"
  },
  "language_info": {
   "codemirror_mode": {
    "name": "ipython",
    "version": 3
   },
   "file_extension": ".py",
   "mimetype": "text/x-python",
   "name": "python",
   "nbconvert_exporter": "python",
   "pygments_lexer": "ipython3",
   "version": "3.7.3"
  }
 },
 "nbformat": 4,
 "nbformat_minor": 2
}
